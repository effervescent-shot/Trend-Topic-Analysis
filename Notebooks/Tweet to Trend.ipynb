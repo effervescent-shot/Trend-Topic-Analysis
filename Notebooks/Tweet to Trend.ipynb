{
 "cells": [
  {
   "cell_type": "code",
   "execution_count": 1,
   "metadata": {},
   "outputs": [],
   "source": [
    "# def trends_augment(trends_that_day, create=False):\n",
    "#     if create:\n",
    "#         trends_that_day_onegrams = set([trend for trend in trends_that_day if len(trend.split(' ')) == 1])\n",
    "#         onegram_trend_dict = dict()\n",
    "#         camel_split_dict = dict()\n",
    "#         for k in trends_that_day_onegrams:\n",
    "#             v1, v2 = onegram_augment([k])\n",
    "#             onegram_trend_dict[k] = v1\n",
    "#             if len(v2)!=0:\n",
    "#                 camel_split_dict[k] = v2\n",
    "\n",
    "\n",
    "#         trends_that_day_nonegrams = trends_that_day - trends_that_day_onegrams\n",
    "#         nonegram_trend_dict = dict((k, nonegram_augment([k])) for k in trends_that_day_nonegrams)\n",
    "#         #nonegram_trend_dict.update(camel_split_dict)\n",
    "        \n",
    "#         return onegram_trend_dict, camel_split_dict, \n",
    "#     else:\n",
    "#         pass\n",
    "        "
   ]
  },
  {
   "cell_type": "code",
   "execution_count": 2,
   "metadata": {},
   "outputs": [],
   "source": [
    "import pandas as pd\n",
    "import random\n",
    "import os\n",
    "import numpy as np\n",
    "from datetime import datetime\n",
    "import multiprocessing as mp\n",
    "import time\n",
    "import re"
   ]
  },
  {
   "cell_type": "code",
   "execution_count": 3,
   "metadata": {},
   "outputs": [
    {
     "data": {
      "text/plain": [
       "['2019-08-31_tweetsevenmorebasic.csv', 'tweets', 'save', 'trends']"
      ]
     },
     "execution_count": 3,
     "metadata": {},
     "output_type": "execute_result"
    }
   ],
   "source": [
    "DATA_DIR = \"../Data\"\n",
    "TWEETS_PATH = os.path.join(DATA_DIR, 'tweets')\n",
    "TREND_PATH = os.path.join(DATA_DIR, 'trends')\n",
    "SAVE_PATH = os.path.join(DATA_DIR, 'save')\n",
    "os.listdir(DATA_DIR)"
   ]
  },
  {
   "cell_type": "code",
   "execution_count": 4,
   "metadata": {},
   "outputs": [],
   "source": [
    "from collections import namedtuple\n",
    "RuleMatch = namedtuple('RuleMatch', 'trend rule')\n",
    "RuleMatchStats = namedtuple('RuleMatchStats', 'tweetSize matchedSize')\n",
    "TrendMatch = namedtuple('TrendMatch', 'trend match matchRule')"
   ]
  },
  {
   "cell_type": "code",
   "execution_count": 5,
   "metadata": {},
   "outputs": [
    {
     "data": {
      "text/plain": [
       "'EZGI#NIHAL'"
      ]
     },
     "execution_count": 5,
     "metadata": {},
     "output_type": "execute_result"
    }
   ],
   "source": [
    "r1 = RuleMatch(trend='nihal', rule='simple' )\n",
    "r2 = RuleMatch(trend='ezgi', rule='simple' )\n",
    "ll = set([r1, r2])\n",
    "\n",
    "\n",
    "rm = RuleMatch(*zip(*ll))\n",
    "rl = list(rm.trend)\n",
    "'#'.join(rl).upper()"
   ]
  },
  {
   "cell_type": "code",
   "execution_count": 6,
   "metadata": {},
   "outputs": [],
   "source": [
    "def camel_case_split(trend_topic):\n",
    "    \"\"\"\n",
    "    param: trend_topic is a single word trend topic \n",
    "\n",
    "    Check if a trend word is in the form of camel case without # \n",
    "    If so split the camel case to its words\n",
    "    \n",
    "    return: list of all words in camel case format \n",
    "    \"\"\" \n",
    "    trend_topic = re.sub('#','', trend_topic)\n",
    "    match_list = []\n",
    "#     for identifier in trend_topic:    \n",
    "    matches = re.finditer('.+?(?:(?<=[a-z])(?=[A-Z])|(?<=[A-Z])(?=[A-Z][a-z])|$)', trend_topic)\n",
    "    match_list += [m.group(0) for m in matches]\n",
    "    \n",
    "    if(len(match_list))==1:\n",
    "        return []\n",
    "    return match_list\n",
    "        \n",
    "def onegram_augment(trend_topic):\n",
    "    \"\"\"\n",
    "    param: trend_topic is a single word trend topic \n",
    "    \n",
    "    From a trend in onegram set create augmented set of the trend by\n",
    "    apply upper-lower case transformation\n",
    "    split the hash and rejoin \n",
    "    split the camel case and rejoin\n",
    "    write a rule for every augmentation\n",
    "    \n",
    "    return: set of augmented-trend-topic, set of augmeted-trend-topic if it was also camelcase\n",
    "    \"\"\"\n",
    "    \n",
    "    onegram = set([RuleMatch(trend=trend_topic, rule='simple')])\n",
    "    onegram_up = set([RuleMatch(trend=gram.trend.upper(), rule='simple-upper') for gram in onegram])\n",
    "    onegram_lower = set([RuleMatch(trend=gram.trend.lower(), rule='simple-lower') for gram in onegram])\n",
    "    \n",
    "    nohash = set([RuleMatch(trend=re.sub('#','', gram.trend), rule='no-hashtag') for gram in onegram])\n",
    "    nohash_up = set([RuleMatch(trend=gram.trend.upper(), rule='no-hashtag-upper') for gram in nohash])\n",
    "    nohash_lower = set([RuleMatch(trend=gram.trend.lower(), rule='no-hashtag-lower') for gram in nohash])\n",
    "    \n",
    "    camelCase = camel_case_split(trend_topic) \n",
    "    camelSplit = set()\n",
    "    if len(camelCase) !=0 :\n",
    "        cc = [RuleMatch(trend=gram, rule='camel') for gram in camelCase]\n",
    "        cc_up = [RuleMatch(trend=gram.upper(), rule='camel-upper') for gram in camelCase]\n",
    "        cc_lower = [RuleMatch(trend=gram.lower(), rule='camel-lower') for gram in camelCase]\n",
    "\n",
    "        ccHashed = set([RuleMatch(trend='#'+gram, rule='camel-hashtag') for gram in camelCase])\n",
    "        ccHashed_up = set([RuleMatch(trend='#'+gram.trend, rule='camel-upper-hashtag') for gram in cc_up])\n",
    "        ccHashed_lower = set([RuleMatch(trend='#'+gram.trend, rule='camel-lower-hashtag') for gram in cc_lower])\n",
    "        \n",
    "#         ccHashJoined = set([RuleMatch(trend='#'.join(camelCase), rule='camel-join-hashtag')])\n",
    "#         ccHashJoined_up = set([RuleMatch(trend='#'.join(camelCase).upper(), rule='camel-upper-join-hashtag')])\n",
    "#         ccHashJoined_lower = set([RuleMatch(trend='#'.join(camelCase).lower(), rule='camel-lower-join-hashtag')])\n",
    "        \n",
    "        \"\"\"\n",
    "        This part is to add it later to nongrams\n",
    "        \"\"\"\n",
    "        if len(camelCase) > 1:\n",
    "            camelSplit = camelSplit.union(set([RuleMatch(trend=' '.join(camelCase), rule='camel-join')]), \n",
    "                                          set([RuleMatch(trend=' '.join(camelCase).upper(), rule='camel-join-upper')]), \n",
    "                                          set([RuleMatch(trend=' '.join(camelCase).lower(), rule='camel-join-lower')]))\n",
    "        \n",
    "        camelCase = set().union(ccHashed, ccHashed_up, ccHashed_lower)\n",
    "                                #,ccHashJoined_up, ccHashJoined_lower, ccHashJoined)\n",
    "        \n",
    "    onegram = onegram.union(onegram_up,onegram_lower, nohash,nohash_up,nohash_lower,camelCase)\n",
    "    \n",
    "    return (onegram, camelSplit)\n",
    "\n",
    "\n",
    "def nonegram_augment(trend_topic):\n",
    "    \"\"\"\n",
    "    param: trend_topic is a multiple words trend topic \n",
    "\n",
    "    Nongram means a trend consits of more than a single word\n",
    "    transform each word to its upper-lower case\n",
    "    augment with the original set\n",
    "    \n",
    "    return: set of augmented-trend-topic \n",
    "\n",
    "    \"\"\"\n",
    "    nonegram = set([RuleMatch(trend=trend_topic, rule='simple')])\n",
    "    nonegram_up = set([RuleMatch(trend=trend_topic.upper(), rule='simple-upper')])\n",
    "    nonegram_lower = set([RuleMatch(trend=trend_topic.lower(), rule='simple-lower')])\n",
    "    \n",
    "    return nonegram.union(nonegram_up, nonegram_lower)"
   ]
  },
  {
   "cell_type": "code",
   "execution_count": 7,
   "metadata": {},
   "outputs": [],
   "source": [
    "stats = []\n",
    "def index_trends(text, onegram_trend_dict, nonegram_trend_dict):\n",
    "    \"\"\"\n",
    "    param: text, twitter text\n",
    "    param: onegram_trend_dict, augmented trend dictionary of onegram trends\n",
    "    param: nonegram_trend_dict, augmented trend dictionary of nonegram trends\n",
    "    \n",
    "    For each tweet text, go through augmented trend dictionaries, if there is a match in augmented version\n",
    "    crate a TrendMatch, a namedtuple, which consist of the actual trend, matching version and matching rule\n",
    "    \n",
    "    return: set of TrendMatch tuples \n",
    "    \"\"\"\n",
    "    \n",
    "    try:\n",
    "        tokens = set(text.split(' '))\n",
    "        trend_set = set()\n",
    "\n",
    "\n",
    "        ####### Match not only the onegram but with augmented set of it  #########\n",
    "        for onegram, onegram_aug in onegram_trend_dict.items():\n",
    "            if len(onegram_aug) != 0 :\n",
    "                rm = RuleMatch(*zip(*onegram_aug))\n",
    "                aug_list = list(rm.trend)\n",
    "                rules = list(rm.rule)\n",
    "\n",
    "                for ind, aug_trend in enumerate(aug_list):\n",
    "                    if aug_trend in tokens:\n",
    "                        trend_set.add(TrendMatch(trend=onegram, match=aug_trend, matchRule=rules[ind]))\n",
    "\n",
    "\n",
    "        ###### Match not only the nonegram but with augmented set of it  #########\n",
    "        for nonegram, nonegram_aug in nonegram_trend_dict.items():\n",
    "            if len(nonegram_aug) != 0 :\n",
    "                rm = RuleMatch(*zip(*nonegram_aug))\n",
    "                aug_list = list(rm.trend)\n",
    "                rules = list(rm.rule)\n",
    "\n",
    "                for ind, aug_trend in enumerate(aug_list):\n",
    "                    if aug_trend in \" \"+text+\" \":\n",
    "                        trend_set.add(TrendMatch(trend=nonegram, match=aug_trend, matchRule=rules[ind]))\n",
    "\n",
    "\n",
    "        ###### Collect Statistics #####\n",
    "        if len(trend_set) != 0 :\n",
    "            tm = TrendMatch(*zip(*trend_set))\n",
    "            unique_trends = set(tm.trend)\n",
    "            stats.append(len(unique_trends))\n",
    "            return trend_set\n",
    "\n",
    "        else:\n",
    "            return None \n",
    "        \n",
    "    except:\n",
    "        print(\"Text could not be processed: \",  text)\n",
    "        return set()\n",
    "    "
   ]
  },
  {
   "cell_type": "code",
   "execution_count": 8,
   "metadata": {},
   "outputs": [],
   "source": [
    "def expand_trend_set(df, trend_col):\n",
    "    \n",
    "    non_list_cols = [col for col in (df.columns) if col != trend_col ]\n",
    "    df2 = pd.DataFrame(df[trend_col].tolist(), index=[df[col] for col in non_list_cols])\\\n",
    "                    .stack()\\\n",
    "                    .reset_index(name=trend_col)[non_list_cols+[trend_col]]\n",
    "    return df2"
   ]
  },
  {
   "cell_type": "code",
   "execution_count": 9,
   "metadata": {},
   "outputs": [],
   "source": [
    "def prepare_data_trend_date_indexed_function(file, candidates):\n",
    "    \n",
    "    tweets_folder = TWEETS_PATH\n",
    "    save_folder = SAVE_PATH\n",
    "    \n",
    "    df = pd.read_csv('%s/%s' % (tweets_folder, file))\n",
    "    dfs = []\n",
    "\n",
    "    for candidate in candidates:\n",
    "        stats = []\n",
    "        \n",
    "        df_that_day = pd.DataFrame(df)\n",
    "        trends_that_day = set(trends[trends.date == candidate]['name'])\n",
    "        \n",
    "        if (len(trends_that_day) == 0):\n",
    "            print('trends for %s not found!' % candidate)\n",
    "            continue\n",
    "            \n",
    "        ################################### AUGMENT TREND SETS ############################################\n",
    "        trends_that_day_onegrams = set([trend for trend in trends_that_day if len(trend.split(' ')) == 1])\n",
    "        onegram_trend_dict = dict()\n",
    "        camel_split_dict = dict()\n",
    "        for k in trends_that_day_onegrams:\n",
    "            v1, v2 = onegram_augment(k)\n",
    "            onegram_trend_dict[k] = v1\n",
    "            if len(v2)!=0:\n",
    "                camel_split_dict[k] = v2\n",
    "\n",
    "        \n",
    "        trends_that_day_nonegrams = trends_that_day - trends_that_day_onegrams\n",
    "        nonegram_trend_dict = dict((k, nonegram_augment(k)) for k in trends_that_day_nonegrams)\n",
    "        nonegram_trend_dict.update(camel_split_dict)\n",
    "        \n",
    "        ################################### APPLY TREND INDEX #############################################\n",
    "\n",
    "        df_that_day['TrendMatch'] = df_that_day.text.apply( lambda x: \n",
    "                                    index_trends(x, onegram_trend_dict, nonegram_trend_dict))\n",
    "        df_that_day.dropna(subset=['TrendMatch'], inplace=True)\n",
    "        \n",
    "        df_that_day = expand_trend_set(df_that_day, 'TrendMatch')\n",
    "        df_that_day['trend'] = df_that_day['TrendMatch'].apply(lambda x: x.trend)\n",
    "        df_that_day['match '] = df_that_day['TrendMatch'].apply(lambda x: x.match)\n",
    "        df_that_day['match rule'] = df_that_day['TrendMatch'].apply(lambda x: x.matchRule)\n",
    "        \n",
    "        df_that_day.drop(['TrendMatch'], axis=1, inplace=True)        \n",
    "        ###################################################################################################\n",
    "        \n",
    "        df_that_day['trend_date'] = candidate\n",
    "        dfs.append(df_that_day)\n",
    "        \n",
    "    \n",
    "    dfs = pd.concat(dfs)\n",
    "#     print(\"DONE:\", '%s/%s' % (tweets_folder, file))                                        \n",
    "    new_file = file.split('_')[0] + \"_trends.csv\"\n",
    "    dfs.to_csv('%s/%s' % (save_folder, new_file), index=False)\n",
    "    f.write(\"2019-08-30\" + \"_\" + str(sum(stats)/len(stats)) )\n",
    "\n",
    "\n",
    "# TO BUILD TREND-DOCS\n",
    "\n",
    "#     dfs = dfs[['text','trends','trend_date']]\\\n",
    "#             .groupby(['trends','trend_date'])['text']\\\n",
    "#             .apply(lambda x: ','.join(x))\\\n",
    "#             .reset_index()"
   ]
  },
  {
   "cell_type": "code",
   "execution_count": 26,
   "metadata": {},
   "outputs": [],
   "source": [
    "def prepare_data_trend_date_indexed_parallelized():\n",
    "    \n",
    "    tweets_folder = TWEETS_PATH\n",
    "    save_folder = SAVE_PATH\n",
    "    \n",
    "    files = os.listdir(tweets_folder)\n",
    "    files = [file for file in files if file >= '2019-07-01' and file <= '2019-08-01' and 'csv' in file] # trends only available after this date\n",
    "    pool = mp.Pool(mp.cpu_count() - 2)\n",
    "    \n",
    "    for i, file in enumerate(files):\n",
    "        print('%d / %d - %s' % (i, len(files), file))\n",
    "        date = file.split('_')[0]\n",
    "        that_day = pd.Timestamp(date).date()\n",
    "        one_day_before = that_day - pd.Timedelta(days = 1)\n",
    "        one_day_after = that_day + pd.Timedelta(days = 1)\n",
    "        candidates = [str(that_day), str(one_day_before), str(one_day_after)]\n",
    "#         pool.apply_async(prepare_data_trend_date_indexed_function, args=(file, candidates))\n",
    "\n",
    "    pool.close()\n",
    "    pool.join()\n",
    "    "
   ]
  },
  {
   "cell_type": "code",
   "execution_count": 21,
   "metadata": {},
   "outputs": [
    {
     "data": {
      "text/plain": [
       "'2013-07-07'"
      ]
     },
     "execution_count": 21,
     "metadata": {},
     "output_type": "execute_result"
    }
   ],
   "source": [
    "def trend_date_parser(d):\n",
    "    format_in =  \"%Y-%m-%d %X\"\n",
    "    format_out = \"%Y-%m-%d\"\n",
    " \n",
    "    d = datetime.strptime(d, format_in)\n",
    "    return d.strftime(format_out)\n",
    "\n",
    "trend_date_parser(\"2013-07-07 23:36:32\")"
   ]
  },
  {
   "cell_type": "code",
   "execution_count": 24,
   "metadata": {},
   "outputs": [],
   "source": [
    "trends = pd.read_csv( os.path.join(TREND_PATH, 'all_trends_world.csv'),\n",
    "                     parse_dates=['date'], date_parser=trend_date_parser)"
   ]
  },
  {
   "cell_type": "code",
   "execution_count": 27,
   "metadata": {},
   "outputs": [
    {
     "name": "stdout",
     "output_type": "stream",
     "text": [
      "0 / 31 - 2019-07-05_tweetslonger.csv.bz2.bz2\n",
      "1 / 31 - 2019-07-25_tweetslonger.csv.bz2.bz2\n",
      "2 / 31 - 2019-07-21_tweetslonger.csv.bz2.bz2\n",
      "3 / 31 - 2019-07-13_tweetslonger.csv.bz2.bz2\n",
      "4 / 31 - 2019-07-20_tweetslonger.csv.bz2.bz2\n",
      "5 / 31 - 2019-07-04_tweetslonger.csv.bz2.bz2\n",
      "6 / 31 - 2019-07-15_tweetslonger.csv.bz2.bz2\n",
      "7 / 31 - 2019-07-17_tweetslonger.csv.bz2.bz2\n",
      "8 / 31 - 2019-07-09_tweetslonger.csv.bz2.bz2\n",
      "9 / 31 - 2019-07-02_tweetslonger.csv.bz2.bz2\n",
      "10 / 31 - 2019-07-29_tweetslonger.csv.bz2.bz2\n",
      "11 / 31 - 2019-07-01_tweetslonger.csv.bz2.bz2\n",
      "12 / 31 - 2019-07-14_tweetslonger.csv.bz2.bz2\n",
      "13 / 31 - 2019-07-31_tweetslonger.csv.bz2.bz2\n",
      "14 / 31 - 2019-07-11_tweetslonger.csv.bz2.bz2\n",
      "15 / 31 - 2019-07-10_tweetslonger.csv.bz2.bz2\n",
      "16 / 31 - 2019-07-22_tweetslonger.csv.bz2.bz2\n",
      "17 / 31 - 2019-07-07_tweetslonger.csv.bz2.bz2\n",
      "18 / 31 - 2019-07-26_tweetslonger.csv.bz2.bz2\n",
      "19 / 31 - 2019-07-03_tweetslonger.csv.bz2.bz2\n",
      "20 / 31 - 2019-07-28_tweetslonger.csv.bz2.bz2\n",
      "21 / 31 - 2019-07-27_tweetslonger.csv.bz2.bz2\n",
      "22 / 31 - 2019-07-18_tweetslonger.csv.bz2.bz2\n",
      "23 / 31 - 2019-07-12_tweetslonger.csv.bz2.bz2\n",
      "24 / 31 - 2019-07-30_tweetslonger.csv.bz2.bz2\n",
      "25 / 31 - 2019-07-06_tweetslonger.csv.bz2.bz2\n",
      "26 / 31 - 2019-07-19_tweetslonger.csv.bz2.bz2\n",
      "27 / 31 - 2019-07-08_tweetslonger.csv.bz2.bz2\n",
      "28 / 31 - 2019-07-23_tweetslonger.csv.bz2.bz2\n",
      "29 / 31 - 2019-07-16_tweetslonger.csv.bz2.bz2\n",
      "30 / 31 - 2019-07-24_tweetslonger.csv.bz2.bz2\n"
     ]
    }
   ],
   "source": [
    "prepare_data_trend_date_indexed_parallelized()"
   ]
  },
  {
   "cell_type": "markdown",
   "metadata": {},
   "source": [
    "\n",
    "# TEST "
   ]
  },
  {
   "cell_type": "code",
   "execution_count": null,
   "metadata": {},
   "outputs": [],
   "source": [
    "# trends = pd.read_csv( os.path.join(TREND_PATH, 'all_trends_world.csv'),\n",
    "#                      parse_dates=['date'], date_parser=trend_date_parser)\n",
    "\n",
    "tr31 = set(trends[trends.date == '2019-09-01']['name'])\n",
    "trends[trends.date == '2019-09-01']"
   ]
  },
  {
   "cell_type": "code",
   "execution_count": null,
   "metadata": {},
   "outputs": [],
   "source": [
    "df = pd.read_csv('%s/%s' % (TWEETS_PATH, '2019-09-01_tweetsevenmorebasic.csv.bz2.bz2'))\n",
    "df_that_day = pd.DataFrame(df)\n",
    "# df = df[['text','trends','trend_date']]\\\n",
    "#         .groupby(['trends','trend_date'])['text']\\\n",
    "#         .apply(lambda x: ','.join(x))\\\n",
    "#         .reset_index()\n",
    "df_that_day.head()"
   ]
  },
  {
   "cell_type": "code",
   "execution_count": null,
   "metadata": {},
   "outputs": [],
   "source": [
    "onegram = set( [t for t in tr31 if len(t.split(' '))==1 ])\n",
    "onegram.add(\"#EzgiYuceturk\")\n",
    "nonegram = tr31 - onegram\n",
    "\n",
    "onegram_trend_set = dict()\n",
    "camel_split_set = dict()\n",
    "\n",
    "for k in onegram:\n",
    "    v1, v2 = onegram_augment(k)\n",
    "    onegram_trend_set[k] = v1\n",
    "    if len(v2)!=0:\n",
    "        camel_split_set[k] = v2\n",
    "\n",
    "nonegram_trend_set = dict((k, nonegram_augment(k)) for k in nonegram )\n",
    "nonegram_trend_set.update(camel_split_set)\n",
    "stats = []\n",
    "dfs = []"
   ]
  },
  {
   "cell_type": "code",
   "execution_count": null,
   "metadata": {},
   "outputs": [],
   "source": [
    "df_that_day['TrendMatch'] = df_that_day.text.apply( lambda x: \n",
    "                            index_trends(x, onegram_trend_set, nonegram_trend_set))"
   ]
  },
  {
   "cell_type": "code",
   "execution_count": null,
   "metadata": {},
   "outputs": [],
   "source": [
    "print(\"Before: \", df_that_day.shape)\n",
    "df_that_day.dropna(subset=['TrendMatch'], inplace=True)\n",
    "print(\"Before: \", df_that_day.shape)\n",
    "print(\"stats: \", sum(stats)/len(stats))"
   ]
  },
  {
   "cell_type": "code",
   "execution_count": null,
   "metadata": {},
   "outputs": [],
   "source": [
    "df_that_day = expand_trend_set(df_that_day, 'TrendMatch')"
   ]
  },
  {
   "cell_type": "code",
   "execution_count": null,
   "metadata": {},
   "outputs": [],
   "source": [
    "df_that_day['trend'] = df_that_day['TrendMatch'].apply(lambda x: x.trend)\n",
    "df_that_day['match '] = df_that_day['TrendMatch'].apply(lambda x: x.match)\n",
    "df_that_day['match rule'] = df_that_day['TrendMatch'].apply(lambda x: x.matchRule)\n",
    "df_that_day.drop(['TrendMatch'], axis=1, inplace=True)\n",
    "df_that_day.drop(['trends'], axis=1, inplace=True)\n",
    "\n",
    "df_that_day['trend_date'] = '2019-09-01'\n",
    "dfs.append(df_that_day)\n",
    "\n",
    "\n",
    "tweets_folder = TWEETS_PATH\n",
    "save_folder = SAVE_PATH\n",
    "    \n",
    "dfs = pd.concat(dfs)"
   ]
  },
  {
   "cell_type": "code",
   "execution_count": null,
   "metadata": {},
   "outputs": [],
   "source": [
    "file = '2019-09-01_trends.csv'\n",
    "new_file = file.split('_')[0] + \"_trends.csv\"\n",
    "dfs.to_csv('%s/%s' % (save_folder, new_file), index=False)"
   ]
  },
  {
   "cell_type": "markdown",
   "metadata": {},
   "source": [
    "### Manual Test"
   ]
  },
  {
   "cell_type": "code",
   "execution_count": null,
   "metadata": {},
   "outputs": [],
   "source": [
    "print(df.text[2])\n",
    "onegram_aug = onegram_trend_set[\"#2cupsstuffed\"]\n",
    "\n",
    "# rm = RuleMatch(*zip(*onegram_aug))\n",
    "# aug_list = list(rm.trend)\n",
    "# rules = list(rm.rule)\n",
    "# print(aug_list) \n",
    "# print(rules)\n",
    "\n",
    "index_trends(df.text[2], onegram_trend_set , nonegram_trend_set)\n",
    "# index_trends(\"My life sucks ezgi yuceturk, forzajuve\", onegram_trend_set , nonegram_trend_set)\n",
    "# index_trends(df.text[20], onegram_trend_set , nonegram_trend_set)\n",
    "# index_trends(df.text[30], onegram_trend_set , nonegram_trend_set)"
   ]
  },
  {
   "cell_type": "code",
   "execution_count": null,
   "metadata": {},
   "outputs": [],
   "source": [
    "f=open(os.path.join(SAVE_PATH,\"stats.txt\"),\"w+\")\n",
    "f.write(\"2019-08-30\" + \"_\" + str(sum(stats)/len(stats)) )\n",
    "f.close()"
   ]
  }
 ],
 "metadata": {
  "kernelspec": {
   "display_name": "Python 3",
   "language": "python",
   "name": "python3"
  },
  "language_info": {
   "codemirror_mode": {
    "name": "ipython",
    "version": 3
   },
   "file_extension": ".py",
   "mimetype": "text/x-python",
   "name": "python",
   "nbconvert_exporter": "python",
   "pygments_lexer": "ipython3",
   "version": "3.6.9"
  }
 },
 "nbformat": 4,
 "nbformat_minor": 4
}
