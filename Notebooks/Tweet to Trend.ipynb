{
 "cells": [
  {
   "cell_type": "code",
   "execution_count": 1,
   "metadata": {},
   "outputs": [],
   "source": [
    "import pandas as pd\n",
    "import random\n",
    "import os\n",
    "import numpy as np\n",
    "from datetime import datetime\n",
    "import multiprocessing as mp\n",
    "import time\n",
    "import re"
   ]
  },
  {
   "cell_type": "code",
   "execution_count": 2,
   "metadata": {},
   "outputs": [
    {
     "data": {
      "text/plain": [
       "['2019-08-31_tweetsevenmorebasic.csv', 'tweets', 'save', 'trends']"
      ]
     },
     "execution_count": 2,
     "metadata": {},
     "output_type": "execute_result"
    }
   ],
   "source": [
    "DATA_DIR = \"../Data\"\n",
    "TWEETS_PATH = os.path.join(DATA_DIR, 'tweets')\n",
    "TREND_PATH = os.path.join(DATA_DIR, 'trends')\n",
    "SAVE_PATH = os.path.join(DATA_DIR, 'save')\n",
    "os.listdir(DATA_DIR)"
   ]
  },
  {
   "cell_type": "code",
   "execution_count": 3,
   "metadata": {},
   "outputs": [],
   "source": [
    "def camel_case_split(onegram):\n",
    "    match_list = []\n",
    "    for identifier in set(onegram):    \n",
    "        matches = re.finditer('.+?(?:(?<=[a-z])(?=[A-Z])|(?<=[A-Z])(?=[A-Z][a-z])|$)', identifier)\n",
    "        match_list += [m.group(0) for m in matches]\n",
    "    \n",
    "    return match_list\n",
    "        \n",
    "def onegram_augment(onegram):\n",
    "    \n",
    "    onegram = set(onegram)\n",
    "    onegram_up = set([gram.upper() for gram in onegram])\n",
    "    onegram_lower = set([gram.lower() for gram in onegram])\n",
    "    \n",
    "    nohash = set([re.sub('#','', gram) for gram in onegram])\n",
    "    nohash_up = set([gram.upper() for gram in nohash])\n",
    "    nohash_lower = set([gram.lower() for gram in nohash])\n",
    "    \n",
    "    camelCase = camel_case_split(nohash) \n",
    "    camelSplit = set()\n",
    "    if len(camelCase) !=0 :\n",
    "        cc_up = [gram.upper() for gram in camelCase]\n",
    "        cc_lower = [gram.lower() for gram in camelCase]\n",
    "\n",
    "        ccHashed = set(['#'+gram for gram in camelCase])\n",
    "        ccHashed_up = set(['#'+gram for gram in cc_up])\n",
    "        ccHashed_lower = set(['#'+gram for gram in cc_lower])\n",
    "        \n",
    "        ccHashJoined = set(['#'.join(camelCase)])\n",
    "        ccHashJoined_up = set(['#'.join(cc_up)])\n",
    "        ccHashJoined_lower = set(['#'.join(cc_lower)])\n",
    "        \n",
    "        \n",
    "        if len(camelCase) > 1:\n",
    "            camelSplit = camelSplit.union(set([' '.join(camelCase)]), \n",
    "                                          set([' '.join(cc_up)]), set([' '.join(cc_lower)]))\n",
    "        \n",
    "        camelCase = set().union(ccHashed, ccHashed_up, ccHashed_lower,\n",
    "                        ccHashJoined_up, ccHashJoined_lower, ccHashJoined)\n",
    "    \n",
    "    return (onegram.union(onegram_up,onegram_lower, nohash,nohash_up,nohash_lower,camelCase), camelSplit)\n",
    "\n",
    "\n",
    "def nonegram_augment(nonegram):\n",
    "    nonegram = set(nonegram)\n",
    "    nonegram_up = set([gram.upper() for gram in nonegram])\n",
    "    nonegram_lower = set([gram.lower() for gram in nonegram])\n",
    "    \n",
    "    return nonegram.union(nonegram_up, nonegram_lower)"
   ]
  },
  {
   "cell_type": "code",
   "execution_count": 4,
   "metadata": {},
   "outputs": [],
   "source": [
    "def index_trends(text, onegram_trend_dict, nonegram_trend_dict):\n",
    "    try:\n",
    "        tokens = text.split(' ')\n",
    "        trend_set = set()\n",
    "        \n",
    "        ####### Match not only the onegram but with augmented set of it  #########\n",
    "        for onegram, onegram_aug in onegram_trend_dict.items():\n",
    "            onegram_match = set(tokens).intersection(onegram_aug) \n",
    "#             print(onegram_augmented)\n",
    "#             print(tokens)\n",
    "#             print(camel_split)\n",
    "            if len(onegram_match)!= 0:\n",
    "                trend_set.add(onegram)\n",
    "        \n",
    "        ###### Match not only the nonegram but with augmented set of it  #########\n",
    "        for nonegram, nonegram_aug in nonegram_trend_dict.items():\n",
    "            others = set([other for other in nonegram_aug if (\" \" + other + \" \") in (\" \" + text +\" \")])\n",
    "            if len(others)!=0:\n",
    "                trend_set.add(nonegram)\n",
    "\n",
    "        return trend_set\n",
    "    \n",
    "    except:\n",
    "        print(text)\n",
    "        return set()\n",
    "    "
   ]
  },
  {
   "cell_type": "code",
   "execution_count": 5,
   "metadata": {},
   "outputs": [],
   "source": [
    "def expand_trend_set(df, trend_col):\n",
    "    \n",
    "    non_list_cols = [col for col in (df.columns) if col != trend_col ]\n",
    "    df2 = pd.DataFrame(df[trend_col].tolist(), index=[df[col] for col in non_list_cols])\\\n",
    "                    .stack()\\\n",
    "                    .reset_index(name=trend_col)[non_list_cols+[trend_col]]\n",
    "    return df2"
   ]
  },
  {
   "cell_type": "code",
   "execution_count": 6,
   "metadata": {},
   "outputs": [],
   "source": [
    "# def trends_augment(trends_that_day, create=False):\n",
    "#     if create:\n",
    "#         trends_that_day_onegrams = set([trend for trend in trends_that_day if len(trend.split(' ')) == 1])\n",
    "#         onegram_trend_dict = dict()\n",
    "#         camel_split_dict = dict()\n",
    "#         for k in trends_that_day_onegrams:\n",
    "#             v1, v2 = onegram_augment([k])\n",
    "#             onegram_trend_dict[k] = v1\n",
    "#             if len(v2)!=0:\n",
    "#                 camel_split_dict[k] = v2\n",
    "\n",
    "\n",
    "#         trends_that_day_nonegrams = trends_that_day - trends_that_day_onegrams\n",
    "#         nonegram_trend_dict = dict((k, nonegram_augment([k])) for k in trends_that_day_nonegrams)\n",
    "#         #nonegram_trend_dict.update(camel_split_dict)\n",
    "        \n",
    "#         return onegram_trend_dict, camel_split_dict, \n",
    "#     else:\n",
    "#         pass\n",
    "        "
   ]
  },
  {
   "cell_type": "code",
   "execution_count": 7,
   "metadata": {},
   "outputs": [],
   "source": [
    "def prepare_data_trend_date_indexed_function(file, candidates):\n",
    "    \n",
    "    tweets_folder =  TWEETS_PATH\n",
    "    save_folder = SAVE_PATH\n",
    "    \n",
    "    df = pd.read_csv('%s/%s' % (tweets_folder, file))\n",
    "    dfs = []\n",
    "    \n",
    "    for candidate in candidates:\n",
    "        df_that_day = pd.DataFrame(df)\n",
    "        trends_that_day = set(trends[trends.date == candidate]['name'])\n",
    "        \n",
    "        if (len(trends_that_day) == 0):\n",
    "            print('trends for %s not found!' % candidate)\n",
    "            continue\n",
    "\n",
    "        ################################### AUGMENT TREND SETS ############################################\n",
    "        trends_that_day_onegrams = set([trend for trend in trends_that_day if len(trend.split(' ')) == 1])\n",
    "        onegram_trend_dict = dict()\n",
    "        camel_split_dict = dict()\n",
    "        for k in trends_that_day_onegrams:\n",
    "            v1, v2 = onegram_augment([k])\n",
    "            onegram_trend_dict[k] = v1\n",
    "            if len(v2)!=0:\n",
    "                camel_split_dict[k] = v2\n",
    "\n",
    "\n",
    "        trends_that_day_nonegrams = trends_that_day - trends_that_day_onegrams\n",
    "        nonegram_trend_dict = dict((k, nonegram_augment([k])) for k in trends_that_day_nonegrams)\n",
    "        nonegram_trend_dict.update(camel_split_dict)\n",
    "        \n",
    "        \n",
    "        ################################### APPLY TREND INDEX #############################################\n",
    "        \n",
    "        df_that_day['trend'] = df_that_day.text.apply( lambda x: \n",
    "                                            index_trends(x, onegram_trend_dict, nonegram_trend_dict))\n",
    "        df_that_day = expand_trend_set(df_that_day, 'trend')\n",
    "\n",
    "        ###################################################################################################\n",
    "        \n",
    "        df_that_day['trend_date'] = candidate\n",
    "        dfs.append(df_that_day)\n",
    "        \n",
    "    \n",
    "    dfs = pd.concat(dfs)\n",
    "#     dfs = dfs[['text','trends','trend_date']]\\\n",
    "#             .groupby(['trends','trend_date'])['text']\\\n",
    "#             .apply(lambda x: ','.join(x))\\\n",
    "#             .reset_index()\n",
    "                                            \n",
    "    new_file = file.split('_')[0] + \"_trends.csv\"\n",
    "    dfs.to_csv('%s/%s' % (save_folder, new_file), index=False)\n"
   ]
  },
  {
   "cell_type": "code",
   "execution_count": 8,
   "metadata": {},
   "outputs": [],
   "source": [
    "def prepare_data_trend_date_indexed_parallelized():\n",
    "    \n",
    "    tweets_folder =  TWEETS_PATH\n",
    "    save_folder = SAVE_PATH\n",
    "\n",
    "    files = os.listdir(tweets_folder)\n",
    "    files = [file for file in files if file >= '2019-07-01' and 'csv' in file] # trends only available after this date\n",
    "    pool = mp.Pool(mp.cpu_count() - 2)\n",
    "    \n",
    "    for i, file in enumerate(files):\n",
    "        print('%d / %d - %s' % (i, len(files), file))\n",
    "        date = file.split('_')[0]\n",
    "        that_day = pd.Timestamp(date).date()\n",
    "        one_day_before = that_day - pd.Timedelta(days = 1)\n",
    "        one_day_after = that_day + pd.Timedelta(days = 1)\n",
    "        candidates = [str(that_day), str(one_day_before), str(one_day_after)]\n",
    "        pool.apply_async(prepare_data_trend_date_indexed_function, args=(file, candidates))\n",
    "\n",
    "    pool.close()\n",
    "    pool.join()\n",
    "    "
   ]
  },
  {
   "cell_type": "code",
   "execution_count": 9,
   "metadata": {},
   "outputs": [
    {
     "data": {
      "text/plain": [
       "'2013-07-07'"
      ]
     },
     "execution_count": 9,
     "metadata": {},
     "output_type": "execute_result"
    }
   ],
   "source": [
    "def trend_date_parser(d):\n",
    "    format_in =  \"%Y-%m-%d %X\"\n",
    "    format_out = \"%Y-%m-%d\"\n",
    " \n",
    "    d = datetime.strptime(d, format_in)\n",
    "    return d.strftime(format_out)\n",
    "\n",
    "trend_date_parser(\"2013-07-07 23:36:32\")"
   ]
  },
  {
   "cell_type": "code",
   "execution_count": 10,
   "metadata": {},
   "outputs": [],
   "source": [
    "trends = pd.read_csv( os.path.join(TREND_PATH, 'all_trends_world.csv'),\n",
    "                     parse_dates=['date'], date_parser=trend_date_parser)\n",
    "# tr31 = set(trends[trends.date == '2019-08-31']['name'])\n",
    "# trends[trends.date == '2019-08-31']"
   ]
  },
  {
   "cell_type": "code",
   "execution_count": 11,
   "metadata": {},
   "outputs": [],
   "source": [
    "# df = pd.read_csv('%s/%s' % (SAVE_PATH, 'oo-2019-08-30_trends.csv'))\n",
    "# df = df[['text','trends','trend_date']]\\\n",
    "#         .groupby(['trends','trend_date'])['text']\\\n",
    "#         .apply(lambda x: ','.join(x))\\\n",
    "#         .reset_index()\n",
    "# df.head()"
   ]
  },
  {
   "cell_type": "code",
   "execution_count": 12,
   "metadata": {},
   "outputs": [
    {
     "name": "stdout",
     "output_type": "stream",
     "text": [
      "0 / 3 - 2019-09-01_tweetsevenmorebasic.csv.bz2.bz2\n",
      "1 / 3 - 2019-08-30_tweetsevenmorebasic.csv.bz2.bz2\n",
      "2 / 3 - 2019-08-31_tweetsevenmorebasic.csv.bz2.bz2\n"
     ]
    }
   ],
   "source": [
    "prepare_data_trend_date_indexed_parallelized()"
   ]
  },
  {
   "cell_type": "code",
   "execution_count": 13,
   "metadata": {},
   "outputs": [],
   "source": [
    "# onegram = set( [t for t in tr31 if len(t.split(' '))==1 ])\n",
    "# onegram.add(\"#EzgiYuceturk\")\n",
    "# nonegram = tr31 - onegram\n",
    "\n",
    "# onegram_trend_set = dict()\n",
    "# camel_split_set = dict()\n",
    "\n",
    "# for k in onegram:\n",
    "#     v1, v2 = onegram_augment([k])\n",
    "#     onegram_trend_set[k] = v1\n",
    "#     camel_split_set[k] = v2\n",
    "\n",
    "# nonegram_trend_set = dict((k, nonegram_augment([k])) for k in nonegram )\n",
    "# nonegram_trend_set.update(camel_split_set)\n"
   ]
  },
  {
   "cell_type": "code",
   "execution_count": 14,
   "metadata": {},
   "outputs": [],
   "source": [
    "# print(df.text[665])\n",
    "# index_trends(\"My life sucks ezgi yuceturk, forzajuve\", onegram_trend_set , nonegram_trend_set)"
   ]
  },
  {
   "cell_type": "code",
   "execution_count": null,
   "metadata": {},
   "outputs": [],
   "source": []
  }
 ],
 "metadata": {
  "kernelspec": {
   "display_name": "Python 3",
   "language": "python",
   "name": "python3"
  },
  "language_info": {
   "codemirror_mode": {
    "name": "ipython",
    "version": 3
   },
   "file_extension": ".py",
   "mimetype": "text/x-python",
   "name": "python",
   "nbconvert_exporter": "python",
   "pygments_lexer": "ipython3",
   "version": "3.6.9"
  }
 },
 "nbformat": 4,
 "nbformat_minor": 4
}
