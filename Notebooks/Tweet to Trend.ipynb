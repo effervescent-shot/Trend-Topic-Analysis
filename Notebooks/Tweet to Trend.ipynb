{
 "cells": [
  {
   "cell_type": "code",
   "execution_count": 1,
   "metadata": {},
   "outputs": [],
   "source": [
    "import pandas as pd\n",
    "import random\n",
    "import os\n",
    "import numpy as np\n",
    "from datetime import datetime\n",
    "import multiprocessing as mp\n",
    "import time"
   ]
  },
  {
   "cell_type": "code",
   "execution_count": 2,
   "metadata": {},
   "outputs": [
    {
     "data": {
      "text/plain": [
       "['2019-08-31_tweetsevenmorebasic.csv',\n",
       " 'tweets',\n",
       " 'save',\n",
       " 'all_trends_world.csv']"
      ]
     },
     "execution_count": 2,
     "metadata": {},
     "output_type": "execute_result"
    }
   ],
   "source": [
    "DATA_DIR = \"../Data\"\n",
    "TWEETS_PATH = os.path.join(DATA_DIR, 'tweets')\n",
    "TREND_PATH = os.path.join(DATA_DIR, 'all_trends_world.csv')\n",
    "SAVE_PATH = os.path.join(DATA_DIR, 'save')\n",
    "os.listdir(DATA_DIR)"
   ]
  },
  {
   "cell_type": "code",
   "execution_count": 100,
   "metadata": {},
   "outputs": [
    {
     "data": {
      "text/plain": [
       "'EZGI'"
      ]
     },
     "execution_count": 100,
     "metadata": {},
     "output_type": "execute_result"
    }
   ],
   "source": [
    "e = \"ezgi\"\n",
    "e.upper()"
   ]
  },
  {
   "cell_type": "code",
   "execution_count": 235,
   "metadata": {},
   "outputs": [],
   "source": [
    "import re\n",
    "\n",
    "def camel_case_split(onegram):\n",
    "    match_list = []\n",
    "    for identifier in set(onegram):    \n",
    "        matches = re.finditer('.+?(?:(?<=[a-z])(?=[A-Z])|(?<=[A-Z])(?=[A-Z][a-z])|$)', identifier)\n",
    "        match_list += [m.group(0) for m in matches]\n",
    "    \n",
    "    return match_list\n",
    "        \n",
    "def onegram_augment(onegram):\n",
    "    \n",
    "    onegram = set(onegram)\n",
    "    onegram_up = set([gram.upper() for gram in onegram])\n",
    "    onegram_lower = set([gram.lower() for gram in onegram])\n",
    "    \n",
    "    nohash = set([re.sub('#','', gram) for gram in onegram])\n",
    "    nohash_up = set([gram.upper() for gram in nohash])\n",
    "    nohash_lower = set([gram.lower() for gram in nohash])\n",
    "    \n",
    "    camelCase = camel_case_split(nohash) \n",
    "    camelSplit = set()\n",
    "    if len(camelCase) !=0 :\n",
    "        cc_up = set([gram.upper() for gram in camelCase])\n",
    "        cc_lower = set([gram.lower() for gram in camelCase])\n",
    "\n",
    "        ccHashed = set(['#'+gram for gram in camelCase])\n",
    "        ccHashed_up = set(['#'+gram for gram in cc_up])\n",
    "        ccHashed_lower = set(['#'+gram for gram in cc_lower])\n",
    "        \n",
    "        ccHashJoined = set(['#'.join(camelCase)])\n",
    "        ccHashJoined_up = set(['#'.join(cc_up)])\n",
    "        ccHashJoined_lower = set(['#'.join(cc_lower)])\n",
    "        \n",
    "        \n",
    "        if len(camelCase) >1:\n",
    "            camelSplit = set([' '.join(camelCase)])\n",
    "        \n",
    "        camelCase = set().union(ccHashed, ccHashed_up, ccHashed_lower,\n",
    "                        ccHashJoined_up, ccHashJoined_lower, ccHashJoined)\n",
    "        \n",
    "      \n",
    "\n",
    "    \n",
    "    return onegram.union(onegram_up,onegram_lower, nohash,nohash_up,nohash_lower,camelCase), camelSplit"
   ]
  },
  {
   "cell_type": "code",
   "execution_count": 236,
   "metadata": {},
   "outputs": [
    {
     "name": "stdout",
     "output_type": "stream",
     "text": [
      "[{'#YUCETURK', 'EZGIYUCETURK', 'YUCETURK#EZGI', '#ezgiyuceturk', '#EZGIYUCETURK', 'Ezgi#Yuceturk', 'yuceturk#ezgi', 'ezgiyuceturk', '#EzgiYuceturk', 'EzgiYuceturk', '#EZGI', '#Ezgi', '#yuceturk', '#ezgi', '#Yuceturk'}, {'Ezgi Yuceturk'}]\n"
     ]
    }
   ],
   "source": [
    "#print(list(onegram)[100])\n",
    "#print(list(nonegram)[:10])\n",
    "\n",
    "#print(list(onegram_augment( [list(onegram)[100]] )))\n",
    "print(list(onegram_augment( [\"#EzgiYuceturk\"] )))"
   ]
  },
  {
   "cell_type": "code",
   "execution_count": 251,
   "metadata": {},
   "outputs": [],
   "source": [
    "def index_trends(text, onegram_trend_set, nonegram_trend_set):\n",
    "    try:\n",
    "        tokens = text.split(' ')\n",
    "        trend_set = set()\n",
    "        \n",
    "        ####### Match not only the onegram but with augmented set of it  #########\n",
    "        for onegram in onegram_trend_set:\n",
    "            onegram_augmented, camel_split = onegram_augment([onegram])  \n",
    "            onegram_match = set(tokens).intersection(onegram_augmented) \n",
    "#             print(onegram_augmented)\n",
    "#             print(tokens)\n",
    "#             print(camel_split)\n",
    "            if len(onegram_match)!= 0:\n",
    "                trend_set.add(onegram)\n",
    "            \n",
    "            if len(camel_split)!=0:\n",
    "                nonegram_trend_set = nonegram_trend_set.union(camel_split)\n",
    "                \n",
    "        ###### Make it Better ##########\n",
    "        others = set([other for other in nonegram_trend_set if (\" \" + other + \" \") in (\" \" + text +\" \")])\n",
    "        return trend_set.union(others)\n",
    "\n",
    "    except:\n",
    "        print(text)\n",
    "        return set()\n",
    "    "
   ]
  },
  {
   "cell_type": "code",
   "execution_count": 252,
   "metadata": {},
   "outputs": [],
   "source": [
    "# onegram = set( [t for t in tr31 if len(t.split(' '))==1 ])\n",
    "# nonegram = tr31 - onegram"
   ]
  },
  {
   "cell_type": "code",
   "execution_count": 266,
   "metadata": {},
   "outputs": [
    {
     "data": {
      "text/plain": [
       "{'#ForzaJuve', 'Ezgi Yuceturk'}"
      ]
     },
     "execution_count": 266,
     "metadata": {},
     "output_type": "execute_result"
    }
   ],
   "source": [
    "#print(df.text[665])\n",
    "index_trends(\"My life sucks Ezgi Yuceturk forzajuve\", set([\"#EzgiYuceturk\", \"#ForzaJuve\"]), nonegram)"
   ]
  },
  {
   "cell_type": "code",
   "execution_count": 240,
   "metadata": {},
   "outputs": [],
   "source": [
    "def expand_trend_set(df, trend_col):\n",
    "    \n",
    "    non_list_cols = [col for col in (df.columns) if col != trend_col ]\n",
    "    df2 = pd.DataFrame(df[trend_col].tolist(), index=[df[col] for col in non_list_cols])\\\n",
    "                    .stack()\\\n",
    "                    .reset_index(name=trend_col)[non_list_cols+[trend_col]]\n",
    "    return df2"
   ]
  },
  {
   "cell_type": "code",
   "execution_count": 45,
   "metadata": {},
   "outputs": [],
   "source": [
    "def prepare_data_trend_date_indexed_function(file, candidates):\n",
    "    \n",
    "    tweets_folder =  TWEETS_PATH\n",
    "    save_folder = SAVE_PATH\n",
    "    \n",
    "    df = pd.read_csv('%s/%s' % (tweets_folder, file))\n",
    "    dfs = []\n",
    "    \n",
    "    for candidate in candidates:\n",
    "        df_that_day = pd.DataFrame(df)\n",
    "        trends_that_day = set(trends[trends.date == candidate]['name'])\n",
    "        \n",
    "        if (len(trends_that_day) == 0):\n",
    "            print('trends for %s not found!' % candidate)\n",
    "            continue\n",
    "\n",
    "        \n",
    "        trends_that_day_onegrams = set([trend for trend in trends_that_day if len(trend.split(' ')) == 1])\n",
    "        trends_that_day_nonegrams = trends_that_day - trends_that_day_onegrams\n",
    "        \n",
    "        ##################################################################################################\n",
    "        df_that_day['trends'] = df_that_day.text.apply(\n",
    "            lambda x: index_trends(x, trends_that_day_onegrams, trends_that_day_nonegrams))\n",
    "        df_that_day = expand_trend_set(df_that_day, 'trends')\n",
    "        ##################################################################################################\n",
    "        \n",
    "        df_that_day['trend_date'] = candidate\n",
    "        dfs.append(df_that_day)\n",
    "        \n",
    "    dfs = pd.concat(dfs)\n",
    "    new_file = file.split('_')[0] + \"_trends.csv\"\n",
    "    dfs.to_csv('%s/%s' % (save_folder, new_file), index=False)\n"
   ]
  },
  {
   "cell_type": "code",
   "execution_count": 46,
   "metadata": {},
   "outputs": [],
   "source": [
    "def prepare_data_trend_date_indexed_parallelized():\n",
    "    \n",
    "    tweets_folder =  TWEETS_PATH\n",
    "    save_folder = SAVE_PATH\n",
    "\n",
    "    files = os.listdir(tweets_folder)\n",
    "    files = [file for file in files if file >= '2013-07-07' and 'csv' in file] # trends only available after this date\n",
    "    pool = mp.Pool(mp.cpu_count() - 2)\n",
    "    \n",
    "    for i, file in enumerate(files):\n",
    "        print('%d / %d - %s' % (i, len(files), file))\n",
    "        date = file.split('_')[0]\n",
    "        that_day = pd.Timestamp(date).date()\n",
    "        one_day_before = that_day - pd.Timedelta(days = 1)\n",
    "        one_day_after = that_day + pd.Timedelta(days = 1)\n",
    "        candidates = [str(that_day), str(one_day_before), str(one_day_after)]\n",
    "        pool.apply_async(prepare_data_trend_date_indexed_function, args=(file, candidates))\n",
    "\n",
    "    pool.close()\n",
    "    pool.join()\n",
    "    "
   ]
  },
  {
   "cell_type": "code",
   "execution_count": 10,
   "metadata": {},
   "outputs": [
    {
     "data": {
      "text/plain": [
       "'2013-07-07'"
      ]
     },
     "execution_count": 10,
     "metadata": {},
     "output_type": "execute_result"
    }
   ],
   "source": [
    "def trend_date_parser(d):\n",
    "    format_in =  \"%Y-%m-%d %X\"\n",
    "    format_out = \"%Y-%m-%d\"\n",
    " \n",
    "    d = datetime.datetime.strptime(d, format_in)\n",
    "    return d.strftime(format_out)\n",
    "\n",
    "trend_date_parser(\"2013-07-07 23:36:32\")"
   ]
  },
  {
   "cell_type": "code",
   "execution_count": 11,
   "metadata": {},
   "outputs": [
    {
     "data": {
      "text/html": [
       "<div>\n",
       "<style scoped>\n",
       "    .dataframe tbody tr th:only-of-type {\n",
       "        vertical-align: middle;\n",
       "    }\n",
       "\n",
       "    .dataframe tbody tr th {\n",
       "        vertical-align: top;\n",
       "    }\n",
       "\n",
       "    .dataframe thead th {\n",
       "        text-align: right;\n",
       "    }\n",
       "</style>\n",
       "<table border=\"1\" class=\"dataframe\">\n",
       "  <thead>\n",
       "    <tr style=\"text-align: right;\">\n",
       "      <th></th>\n",
       "      <th>date</th>\n",
       "      <th>duration</th>\n",
       "      <th>name</th>\n",
       "      <th>volume</th>\n",
       "    </tr>\n",
       "  </thead>\n",
       "  <tbody>\n",
       "    <tr>\n",
       "      <th>4173506</th>\n",
       "      <td>2019-08-31</td>\n",
       "      <td>490.0</td>\n",
       "      <td>#الهلال_الرايد</td>\n",
       "      <td>162430.0</td>\n",
       "    </tr>\n",
       "    <tr>\n",
       "      <th>4173507</th>\n",
       "      <td>2019-08-31</td>\n",
       "      <td>190.0</td>\n",
       "      <td>코엑스</td>\n",
       "      <td>10596.0</td>\n",
       "    </tr>\n",
       "    <tr>\n",
       "      <th>4173508</th>\n",
       "      <td>2019-08-31</td>\n",
       "      <td>100.0</td>\n",
       "      <td>#FoodCPNxTEMPT</td>\n",
       "      <td>99623.0</td>\n",
       "    </tr>\n",
       "    <tr>\n",
       "      <th>4173509</th>\n",
       "      <td>2019-08-31</td>\n",
       "      <td>100.0</td>\n",
       "      <td>#あすかなBonDance</td>\n",
       "      <td>27517.0</td>\n",
       "    </tr>\n",
       "    <tr>\n",
       "      <th>4173510</th>\n",
       "      <td>2019-08-31</td>\n",
       "      <td>100.0</td>\n",
       "      <td>#اكثر_مطعم_تحبه</td>\n",
       "      <td>0.0</td>\n",
       "    </tr>\n",
       "    <tr>\n",
       "      <th>...</th>\n",
       "      <td>...</td>\n",
       "      <td>...</td>\n",
       "      <td>...</td>\n",
       "      <td>...</td>\n",
       "    </tr>\n",
       "    <tr>\n",
       "      <th>4174082</th>\n",
       "      <td>2019-08-31</td>\n",
       "      <td>30.0</td>\n",
       "      <td>#Newwieeอยู่นี่</td>\n",
       "      <td>0.0</td>\n",
       "    </tr>\n",
       "    <tr>\n",
       "      <th>4174083</th>\n",
       "      <td>2019-08-31</td>\n",
       "      <td>30.0</td>\n",
       "      <td>#استعداداتكم_للمدرسه</td>\n",
       "      <td>0.0</td>\n",
       "    </tr>\n",
       "    <tr>\n",
       "      <th>4174084</th>\n",
       "      <td>2019-08-31</td>\n",
       "      <td>30.0</td>\n",
       "      <td>Bill O'Brien</td>\n",
       "      <td>0.0</td>\n",
       "    </tr>\n",
       "    <tr>\n",
       "      <th>4174085</th>\n",
       "      <td>2019-08-31</td>\n",
       "      <td>30.0</td>\n",
       "      <td>#ourflowerkai</td>\n",
       "      <td>0.0</td>\n",
       "    </tr>\n",
       "    <tr>\n",
       "      <th>4174086</th>\n",
       "      <td>2019-08-31</td>\n",
       "      <td>30.0</td>\n",
       "      <td>#مها_الصعيري</td>\n",
       "      <td>0.0</td>\n",
       "    </tr>\n",
       "  </tbody>\n",
       "</table>\n",
       "<p>581 rows × 4 columns</p>\n",
       "</div>"
      ],
      "text/plain": [
       "              date  duration                  name    volume\n",
       "4173506 2019-08-31     490.0        #الهلال_الرايد  162430.0\n",
       "4173507 2019-08-31     190.0                   코엑스   10596.0\n",
       "4173508 2019-08-31     100.0        #FoodCPNxTEMPT   99623.0\n",
       "4173509 2019-08-31     100.0         #あすかなBonDance   27517.0\n",
       "4173510 2019-08-31     100.0       #اكثر_مطعم_تحبه       0.0\n",
       "...            ...       ...                   ...       ...\n",
       "4174082 2019-08-31      30.0       #Newwieeอยู่นี่       0.0\n",
       "4174083 2019-08-31      30.0  #استعداداتكم_للمدرسه       0.0\n",
       "4174084 2019-08-31      30.0          Bill O'Brien       0.0\n",
       "4174085 2019-08-31      30.0         #ourflowerkai       0.0\n",
       "4174086 2019-08-31      30.0          #مها_الصعيري       0.0\n",
       "\n",
       "[581 rows x 4 columns]"
      ]
     },
     "execution_count": 11,
     "metadata": {},
     "output_type": "execute_result"
    }
   ],
   "source": [
    "trends = pd.read_csv(TREND_PATH, parse_dates=['date'], date_parser=trend_date_parser)\n",
    "tr31 = set(trends[trends.date == '2019-08-31']['name'])\n",
    "trends[trends.date == '2019-08-31']"
   ]
  },
  {
   "cell_type": "code",
   "execution_count": 62,
   "metadata": {},
   "outputs": [],
   "source": [
    "df = pd.read_csv('%s/%s' % (TWEETS_PATH, '2019-08-31_tweetsevenmorebasic.csv.bz2.bz2'))"
   ]
  },
  {
   "cell_type": "code",
   "execution_count": 48,
   "metadata": {},
   "outputs": [],
   "source": [
    "prepare_data_trend_date_indexed_parallelized()"
   ]
  },
  {
   "cell_type": "code",
   "execution_count": null,
   "metadata": {},
   "outputs": [],
   "source": []
  },
  {
   "cell_type": "code",
   "execution_count": null,
   "metadata": {},
   "outputs": [],
   "source": []
  }
 ],
 "metadata": {
  "kernelspec": {
   "display_name": "Python 3",
   "language": "python",
   "name": "python3"
  },
  "language_info": {
   "codemirror_mode": {
    "name": "ipython",
    "version": 3
   },
   "file_extension": ".py",
   "mimetype": "text/x-python",
   "name": "python",
   "nbconvert_exporter": "python",
   "pygments_lexer": "ipython3",
   "version": "3.6.9"
  }
 },
 "nbformat": 4,
 "nbformat_minor": 4
}
