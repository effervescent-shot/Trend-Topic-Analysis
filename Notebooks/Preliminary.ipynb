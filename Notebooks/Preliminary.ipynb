{
 "cells": [
  {
   "cell_type": "code",
   "execution_count": 1,
   "metadata": {},
   "outputs": [],
   "source": [
    "# imports\n",
    "import pandas as pd\n",
    "import numpy as np\n",
    "from collections import Counter\n",
    "import re\n",
    "import csv\n",
    "import seaborn as sns\n",
    "import matplotlib.pylab as plt\n",
    "\n",
    "import gensim\n",
    "from gensim.parsing.preprocessing import STOPWORDS\n",
    "\n",
    "import warnings\n",
    "warnings.filterwarnings('ignore')\n",
    "\n",
    "# Import stopwords with nltk.\n",
    "import nltk\n",
    "from nltk.corpus import stopwords\n",
    "\n",
    "STOP_WORD_FLAG = False\n",
    "\n",
    "if STOP_WORD_FLAG:\n",
    "    nltk.download(\"stopwords\")\n",
    "    stop = stopwords.words('english')\n",
    "    STOP_WORD_FLAG = False"
   ]
  },
  {
   "cell_type": "code",
   "execution_count": 15,
   "metadata": {},
   "outputs": [
    {
     "data": {
      "text/plain": [
       "'31/08/2019 21:56:00'"
      ]
     },
     "execution_count": 15,
     "metadata": {},
     "output_type": "execute_result"
    }
   ],
   "source": [
    "import datetime\n",
    "import time\n",
    "# stime = \"Sat Aug 31 21:56:00 +0000 2019\"\n",
    "# print(datetime.datetime.strptime(stime, \"%a %b %d %H:%M:%S %z %Y\").timestamp())\n",
    "#strftime('%d/%m/%Y') %X for 21:56:00\n",
    "\n",
    "def date_parser(d):\n",
    "    format_in =  \"%a %b %d %H:%M:%S %z %Y\"\n",
    "    format_out = \"%d/%m/%Y %X\"\n",
    " \n",
    "    d = datetime.datetime.strptime(d, format_in)\n",
    "    return d.strftime(format_out)\n",
    "\n",
    "date_parser(\"Sat Aug 31 21:56:00 +0000 2019\")"
   ]
  },
  {
   "cell_type": "code",
   "execution_count": 34,
   "metadata": {},
   "outputs": [],
   "source": [
    "#Read the data\n",
    "DATA_DIR = '../Data/'\n",
    "source = pd.read_csv(DATA_DIR+'2019-08-31_tweetsevenmorebasic.csv',header=0, usecols=[1,2,5],\n",
    "                     parse_dates=['created_at'],date_parser=date_parser)\n"
   ]
  },
  {
   "cell_type": "code",
   "execution_count": 3,
   "metadata": {},
   "outputs": [],
   "source": [
    "# LATER\n",
    "\n",
    "# source1.sample(10)\n",
    "\n",
    "# retweet = re.compile(r'@([^\\s:]+)')\n",
    "# link = re.compile(r'(?:http|ftp|https)://(?:[\\w_-]+(?:(?:\\.[\\w_-]+)+))(?:[\\w.,@?^=%&:/~+#-]*[\\w@?^=%&/~+#-])?')\n",
    "\n",
    "# source[\"rt\"] = source1.text.apply(lambda x:retweet.findall(x))\n",
    "# source[\"link\"] = source1.text.apply(lambda x:link.findall(x))\n"
   ]
  },
  {
   "cell_type": "code",
   "execution_count": 41,
   "metadata": {},
   "outputs": [
    {
     "name": "stdout",
     "output_type": "stream",
     "text": [
      "RT @FrankSunTimes: Available in all good stores tomorrow... https://t.co/xPFIqu2zz0\n",
      ": Available in all good stores tomorrow...\n",
      ": Available in all good stores tomorrow...\n",
      ":\n"
     ]
    }
   ],
   "source": [
    "import preprocessor as p\n",
    "from preprocessor.api import clean, tokenize, parse\n",
    "\n",
    "source[\"clean_text\"] = source.text.apply(lambda x: clean(x))\n",
    "print(source.text[0])\n",
    "print(source.clean_text[0])\n",
    "print(tokenize(source.clean_text[0]))\n",
    "print(tokenize(source.clean_text[0][0]))"
   ]
  },
  {
   "cell_type": "code",
   "execution_count": 37,
   "metadata": {},
   "outputs": [],
   "source": [
    "source[\"parsed\"] = source.text.apply(lambda x: parse(x))\n",
    "source[\"mentions\"] = source.parsed.apply(lambda x: x.mentions[0].match if x.mentions is not None else None)\n",
    "source[\"urls\"] = source.parsed.apply(lambda x: x.urls[0].match if x.urls is not None else None)\n",
    "source[\"hashtags\"]= source.parsed.apply(lambda x: x.hashtags[0].match if x.hashtags is not None else None)\n",
    "source[\"reserveds\"]= source.parsed.apply(lambda x: x.reserved[0].match if x.reserved is not None else None)"
   ]
  },
  {
   "cell_type": "code",
   "execution_count": 39,
   "metadata": {},
   "outputs": [
    {
     "data": {
      "text/html": [
       "<div>\n",
       "<style scoped>\n",
       "    .dataframe tbody tr th:only-of-type {\n",
       "        vertical-align: middle;\n",
       "    }\n",
       "\n",
       "    .dataframe tbody tr th {\n",
       "        vertical-align: top;\n",
       "    }\n",
       "\n",
       "    .dataframe thead th {\n",
       "        text-align: right;\n",
       "    }\n",
       "</style>\n",
       "<table border=\"1\" class=\"dataframe\">\n",
       "  <thead>\n",
       "    <tr style=\"text-align: right;\">\n",
       "      <th></th>\n",
       "      <th>author_id</th>\n",
       "      <th>created_at</th>\n",
       "      <th>text</th>\n",
       "      <th>clean_text</th>\n",
       "      <th>parsed</th>\n",
       "      <th>mentions</th>\n",
       "      <th>urls</th>\n",
       "      <th>hashtags</th>\n",
       "      <th>reserveds</th>\n",
       "    </tr>\n",
       "  </thead>\n",
       "  <tbody>\n",
       "    <tr>\n",
       "      <th>0</th>\n",
       "      <td>619991287</td>\n",
       "      <td>2019-08-31 21:56:00</td>\n",
       "      <td>RT @FrankSunTimes: Available in all good store...</td>\n",
       "      <td>: Available in all good stores tomorrow...</td>\n",
       "      <td>&lt;preprocessor.parse.ParseResult object at 0x7f...</td>\n",
       "      <td>@FrankSunTimes</td>\n",
       "      <td>https://t.co/xPFIqu2zz0</td>\n",
       "      <td>None</td>\n",
       "      <td>RT</td>\n",
       "    </tr>\n",
       "    <tr>\n",
       "      <th>1</th>\n",
       "      <td>2390646763</td>\n",
       "      <td>2019-08-31 21:56:00</td>\n",
       "      <td>VIDEO: Anna Wintour Makes This Year's Met Gala...</td>\n",
       "      <td>VIDEO: Anna Wintour Makes This Year's Met Gala...</td>\n",
       "      <td>&lt;preprocessor.parse.ParseResult object at 0x7f...</td>\n",
       "      <td>None</td>\n",
       "      <td>https://t.co/sGIElNvKGK</td>\n",
       "      <td>None</td>\n",
       "      <td>None</td>\n",
       "    </tr>\n",
       "    <tr>\n",
       "      <th>2</th>\n",
       "      <td>27626694</td>\n",
       "      <td>2019-08-31 21:56:00</td>\n",
       "      <td>RT @NetoBrightman: @TheQuartering moments befo...</td>\n",
       "      <td>: moments before her twitter was deleted</td>\n",
       "      <td>&lt;preprocessor.parse.ParseResult object at 0x7f...</td>\n",
       "      <td>@NetoBrightman</td>\n",
       "      <td>https://t.co/L7sppTVIrW</td>\n",
       "      <td>None</td>\n",
       "      <td>RT</td>\n",
       "    </tr>\n",
       "    <tr>\n",
       "      <th>3</th>\n",
       "      <td>29722915</td>\n",
       "      <td>2019-08-31 21:56:00</td>\n",
       "      <td>My sister and my baby brother are having a sle...</td>\n",
       "      <td>My sister and my baby brother are having a sle...</td>\n",
       "      <td>&lt;preprocessor.parse.ParseResult object at 0x7f...</td>\n",
       "      <td>None</td>\n",
       "      <td>None</td>\n",
       "      <td>None</td>\n",
       "      <td>None</td>\n",
       "    </tr>\n",
       "    <tr>\n",
       "      <th>4</th>\n",
       "      <td>2864151534</td>\n",
       "      <td>2019-08-31 21:56:00</td>\n",
       "      <td>RT @vibesvt_: hoshi and eunhyuk attending each...</td>\n",
       "      <td>: hoshi and eunhyuk attending each other's con...</td>\n",
       "      <td>&lt;preprocessor.parse.ParseResult object at 0x7f...</td>\n",
       "      <td>@vibesvt_</td>\n",
       "      <td>https://t.co/…</td>\n",
       "      <td>None</td>\n",
       "      <td>RT</td>\n",
       "    </tr>\n",
       "  </tbody>\n",
       "</table>\n",
       "</div>"
      ],
      "text/plain": [
       "    author_id          created_at  \\\n",
       "0   619991287 2019-08-31 21:56:00   \n",
       "1  2390646763 2019-08-31 21:56:00   \n",
       "2    27626694 2019-08-31 21:56:00   \n",
       "3    29722915 2019-08-31 21:56:00   \n",
       "4  2864151534 2019-08-31 21:56:00   \n",
       "\n",
       "                                                text  \\\n",
       "0  RT @FrankSunTimes: Available in all good store...   \n",
       "1  VIDEO: Anna Wintour Makes This Year's Met Gala...   \n",
       "2  RT @NetoBrightman: @TheQuartering moments befo...   \n",
       "3  My sister and my baby brother are having a sle...   \n",
       "4  RT @vibesvt_: hoshi and eunhyuk attending each...   \n",
       "\n",
       "                                          clean_text  \\\n",
       "0         : Available in all good stores tomorrow...   \n",
       "1  VIDEO: Anna Wintour Makes This Year's Met Gala...   \n",
       "2           : moments before her twitter was deleted   \n",
       "3  My sister and my baby brother are having a sle...   \n",
       "4  : hoshi and eunhyuk attending each other's con...   \n",
       "\n",
       "                                              parsed        mentions  \\\n",
       "0  <preprocessor.parse.ParseResult object at 0x7f...  @FrankSunTimes   \n",
       "1  <preprocessor.parse.ParseResult object at 0x7f...            None   \n",
       "2  <preprocessor.parse.ParseResult object at 0x7f...  @NetoBrightman   \n",
       "3  <preprocessor.parse.ParseResult object at 0x7f...            None   \n",
       "4  <preprocessor.parse.ParseResult object at 0x7f...       @vibesvt_   \n",
       "\n",
       "                      urls hashtags reserveds  \n",
       "0  https://t.co/xPFIqu2zz0     None        RT  \n",
       "1  https://t.co/sGIElNvKGK     None      None  \n",
       "2  https://t.co/L7sppTVIrW     None        RT  \n",
       "3                     None     None      None  \n",
       "4           https://t.co/…     None        RT  "
      ]
     },
     "execution_count": 39,
     "metadata": {},
     "output_type": "execute_result"
    }
   ],
   "source": [
    "# source = source.drop([\"id\",\"text\"], axis = 1)\n",
    "source.head(5)"
   ]
  },
  {
   "cell_type": "code",
   "execution_count": null,
   "metadata": {},
   "outputs": [],
   "source": []
  }
 ],
 "metadata": {
  "kernelspec": {
   "display_name": "Python 3",
   "language": "python",
   "name": "python3"
  },
  "language_info": {
   "codemirror_mode": {
    "name": "ipython",
    "version": 3
   },
   "file_extension": ".py",
   "mimetype": "text/x-python",
   "name": "python",
   "nbconvert_exporter": "python",
   "pygments_lexer": "ipython3",
   "version": "3.6.9"
  }
 },
 "nbformat": 4,
 "nbformat_minor": 4
}
